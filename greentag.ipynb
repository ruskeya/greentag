{
 "cells": [
  {
   "cell_type": "code",
   "execution_count": 120,
   "metadata": {
    "collapsed": true
   },
   "outputs": [],
   "source": [
    "import numpy as np\n",
    "import pandas as pd\n",
    "import matplotlib.pyplot as plt\n",
    "from pdfrw import PdfReader\n",
    "import re\n",
    "import os\n",
    "from datetime import datetime"
   ]
  },
  {
   "cell_type": "code",
   "execution_count": 65,
   "metadata": {},
   "outputs": [
    {
     "data": {
      "text/html": [
       "<div>\n",
       "<style>\n",
       "    .dataframe thead tr:only-child th {\n",
       "        text-align: right;\n",
       "    }\n",
       "\n",
       "    .dataframe thead th {\n",
       "        text-align: left;\n",
       "    }\n",
       "\n",
       "    .dataframe tbody tr th {\n",
       "        vertical-align: top;\n",
       "    }\n",
       "</style>\n",
       "<table border=\"1\" class=\"dataframe\">\n",
       "  <thead>\n",
       "    <tr style=\"text-align: right;\">\n",
       "      <th></th>\n",
       "      <th>Devide ID</th>\n",
       "      <th>Serial Number</th>\n",
       "      <th>Temperature</th>\n",
       "      <th>Conductivity</th>\n",
       "      <th>Pressure</th>\n",
       "      <th>Date</th>\n",
       "      <th>Time</th>\n",
       "    </tr>\n",
       "  </thead>\n",
       "  <tbody>\n",
       "    <tr>\n",
       "      <th>0</th>\n",
       "      <td>20</td>\n",
       "      <td>3705695.0</td>\n",
       "      <td>23.6782</td>\n",
       "      <td>2.49079</td>\n",
       "      <td>0.249</td>\n",
       "      <td>02 Feb 2018</td>\n",
       "      <td>08:37:42</td>\n",
       "    </tr>\n",
       "    <tr>\n",
       "      <th>1</th>\n",
       "      <td>20</td>\n",
       "      <td>3705695.0</td>\n",
       "      <td>23.6826</td>\n",
       "      <td>2.48882</td>\n",
       "      <td>0.249</td>\n",
       "      <td>02 Feb 2018</td>\n",
       "      <td>08:37:44</td>\n",
       "    </tr>\n",
       "    <tr>\n",
       "      <th>2</th>\n",
       "      <td>20</td>\n",
       "      <td>3705695.0</td>\n",
       "      <td>23.6860</td>\n",
       "      <td>2.48872</td>\n",
       "      <td>0.256</td>\n",
       "      <td>02 Feb 2018</td>\n",
       "      <td>08:37:47</td>\n",
       "    </tr>\n",
       "    <tr>\n",
       "      <th>3</th>\n",
       "      <td>20</td>\n",
       "      <td>3705695.0</td>\n",
       "      <td>23.6882</td>\n",
       "      <td>2.48994</td>\n",
       "      <td>0.249</td>\n",
       "      <td>02 Feb 2018</td>\n",
       "      <td>08:37:49</td>\n",
       "    </tr>\n",
       "    <tr>\n",
       "      <th>4</th>\n",
       "      <td>20</td>\n",
       "      <td>3705695.0</td>\n",
       "      <td>23.6886</td>\n",
       "      <td>2.49004</td>\n",
       "      <td>0.249</td>\n",
       "      <td>02 Feb 2018</td>\n",
       "      <td>08:37:52</td>\n",
       "    </tr>\n",
       "  </tbody>\n",
       "</table>\n",
       "</div>"
      ],
      "text/plain": [
       "  Devide ID   Serial Number   Temperature   Conductivity   Pressure  \\\n",
       "0        20       3705695.0       23.6782        2.49079      0.249   \n",
       "1        20       3705695.0       23.6826        2.48882      0.249   \n",
       "2        20       3705695.0       23.6860        2.48872      0.256   \n",
       "3        20       3705695.0       23.6882        2.48994      0.249   \n",
       "4        20       3705695.0       23.6886        2.49004      0.249   \n",
       "\n",
       "           Date       Time  \n",
       "0   02 Feb 2018   08:37:42  \n",
       "1   02 Feb 2018   08:37:44  \n",
       "2   02 Feb 2018   08:37:47  \n",
       "3   02 Feb 2018   08:37:49  \n",
       "4   02 Feb 2018   08:37:52  "
      ]
     },
     "execution_count": 65,
     "metadata": {},
     "output_type": "execute_result"
    }
   ],
   "source": [
    "os.listdir(os.getcwd())\n",
    "test = pd.read_csv(\"SBE19_noh\", names = [\"Temperature\", 'Conductivity', 'Pressure', 'Oxygen Temperature', 'Dissolved Oxygen', 'Salinity', 'Sound Velocity'])\n",
    "test.head()\n",
    "control = pd.read_csv('SBE37.cap')\n",
    "control.head()"
   ]
  },
  {
   "cell_type": "code",
   "execution_count": 2,
   "metadata": {
    "collapsed": true
   },
   "outputs": [],
   "source": []
  },
  {
   "cell_type": "code",
   "execution_count": 17,
   "metadata": {},
   "outputs": [
    {
     "data": {
      "text/plain": [
       "['/Size', '/Root', '/Info', '/ID']"
      ]
     },
     "execution_count": 17,
     "metadata": {},
     "output_type": "execute_result"
    }
   ],
   "source": [
    "x=PdfReader('tempcal.pdf')\n",
    "x.keys()"
   ]
  },
  {
   "cell_type": "code",
   "execution_count": 18,
   "metadata": {},
   "outputs": [
    {
     "data": {
      "text/plain": [
       "{'/Author': '(jwymore)',\n",
       " '/CreationDate': '(D:20151109131230)',\n",
       " '/Creator': '(PScript5.dll Version 5.2.2)',\n",
       " '/ModDate': '(D:20151109131230)',\n",
       " '/Producer': '(GPL Ghostscript 8.15)',\n",
       " '/Title': '(CondCalibrationReport)'}"
      ]
     },
     "execution_count": 18,
     "metadata": {},
     "output_type": "execute_result"
    }
   ],
   "source": [
    "x.Info"
   ]
  },
  {
   "cell_type": "code",
   "execution_count": 19,
   "metadata": {
    "collapsed": true
   },
   "outputs": [],
   "source": [
    "y = x.pages[0].pdfstring"
   ]
  },
  {
   "cell_type": "code",
   "execution_count": 20,
   "metadata": {
    "collapsed": true
   },
   "outputs": [],
   "source": [
    "import PyPDF2"
   ]
  },
  {
   "cell_type": "code",
   "execution_count": 46,
   "metadata": {},
   "outputs": [
    {
     "data": {
      "text/plain": [
       "'                                   f = Instrument Output (Hz) / 1000.0t = temperature (°C);    p = pressure (decibars);    d = CTcor;    e = CPcor;Conductivity (S/m) = (g + h * f2+ i * f3 + j * f4) /10 (1 + d * t + e * p)Residual (Siemens/meter) = instrument conductivity - bath conductivitySea-Bird Electronics, Inc.13431 NE 20th Street, Bellevue, WA 98005-2010 USAPhone: (+1) 425-643-9866 Fax (+1) 425-643-9954 Email: seabird@seabird.comSENSOR SERIAL NUMBER: 6000CALIBRATION DATE: 16-Mar-17SBE 19plus V2 CONDUCTIVITY CALIBRATION DATAPSS 1978: C(35,15,0) = 4.2914 Siemens/meterCOEFFICIENTS:g = -1.070115e+000h =  1.666822e-001i = -2.133476e-003j =  1.694100e-004CPcor = -9.5700e-008CTcor =  3.2500e-006BATH TEMP(° C)BATH SAL(PSU)BATH COND(S/m)INSTRUMENTOUTPUT (Hz)INSTRUMENTCOND (S/m)RESIDUAL(S/m)22.00001.00004.500015.000018.500024.000029.000032.50000.000034.799734.780034.737934.729034.719334.714134.71100.000002.974683.281644.263014.608045.165795.687466.059702567.605024.135212.605773.325957.646243.796499.686676.090.00002.97463.28174.26314.60805.16575.68756.06000.00000-0.000060.000060.00004-0.00002-0.000060.000040.00030Date, Slope CorrectionREPLATINIZING CELL'"
      ]
     },
     "execution_count": 46,
     "metadata": {},
     "output_type": "execute_result"
    }
   ],
   "source": [
    "pdfFileObj = open('sbe19.pdf', 'rb')\n",
    "pdfReader = PyPDF2.PdfFileReader(pdfFileObj)\n",
    "pageObj = pdfReader.getPage(0)\n",
    "pdf_str = pageObj.extractText()\n",
    "pdf_str"
   ]
  },
  {
   "cell_type": "code",
   "execution_count": 49,
   "metadata": {},
   "outputs": [
    {
     "data": {
      "text/plain": [
       "'6000'"
      ]
     },
     "execution_count": 49,
     "metadata": {},
     "output_type": "execute_result"
    }
   ],
   "source": [
    "m = re.search('(SERIAL NUMBER: ).{4}' , pdf_str)\n",
    "m.group(0)[-4:]"
   ]
  },
  {
   "cell_type": "code",
   "execution_count": 22,
   "metadata": {},
   "outputs": [
    {
     "data": {
      "text/html": [
       "<div>\n",
       "<style>\n",
       "    .dataframe thead tr:only-child th {\n",
       "        text-align: right;\n",
       "    }\n",
       "\n",
       "    .dataframe thead th {\n",
       "        text-align: left;\n",
       "    }\n",
       "\n",
       "    .dataframe tbody tr th {\n",
       "        vertical-align: top;\n",
       "    }\n",
       "</style>\n",
       "<table border=\"1\" class=\"dataframe\">\n",
       "  <thead>\n",
       "    <tr style=\"text-align: right;\">\n",
       "      <th></th>\n",
       "      <th>btemp</th>\n",
       "      <th>bsal</th>\n",
       "      <th>bcond</th>\n",
       "      <th>ioutput</th>\n",
       "      <th>icond</th>\n",
       "      <th>Residual</th>\n",
       "    </tr>\n",
       "  </thead>\n",
       "  <tbody>\n",
       "    <tr>\n",
       "      <th>1</th>\n",
       "      <td>1.0</td>\n",
       "      <td>34.7997</td>\n",
       "      <td>2.97468</td>\n",
       "      <td>5024.13</td>\n",
       "      <td>2.9746</td>\n",
       "      <td>-0.00006</td>\n",
       "    </tr>\n",
       "    <tr>\n",
       "      <th>2</th>\n",
       "      <td>4.5</td>\n",
       "      <td>34.7800</td>\n",
       "      <td>3.28164</td>\n",
       "      <td>5212.60</td>\n",
       "      <td>3.2817</td>\n",
       "      <td>0.00006</td>\n",
       "    </tr>\n",
       "    <tr>\n",
       "      <th>3</th>\n",
       "      <td>15.0</td>\n",
       "      <td>34.7379</td>\n",
       "      <td>4.26301</td>\n",
       "      <td>5773.32</td>\n",
       "      <td>4.2631</td>\n",
       "      <td>0.00004</td>\n",
       "    </tr>\n",
       "    <tr>\n",
       "      <th>4</th>\n",
       "      <td>18.5</td>\n",
       "      <td>34.7290</td>\n",
       "      <td>4.60804</td>\n",
       "      <td>5957.64</td>\n",
       "      <td>4.6080</td>\n",
       "      <td>-0.00002</td>\n",
       "    </tr>\n",
       "    <tr>\n",
       "      <th>5</th>\n",
       "      <td>24.0</td>\n",
       "      <td>34.7193</td>\n",
       "      <td>5.16579</td>\n",
       "      <td>6243.79</td>\n",
       "      <td>5.1657</td>\n",
       "      <td>-0.00006</td>\n",
       "    </tr>\n",
       "  </tbody>\n",
       "</table>\n",
       "</div>"
      ],
      "text/plain": [
       "   btemp     bsal    bcond  ioutput   icond  Residual\n",
       "1    1.0  34.7997  2.97468  5024.13  2.9746  -0.00006\n",
       "2    4.5  34.7800  3.28164  5212.60  3.2817   0.00006\n",
       "3   15.0  34.7379  4.26301  5773.32  4.2631   0.00004\n",
       "4   18.5  34.7290  4.60804  5957.64  4.6080  -0.00002\n",
       "5   24.0  34.7193  5.16579  6243.79  5.1657  -0.00006"
      ]
     },
     "execution_count": 22,
     "metadata": {},
     "output_type": "execute_result"
    }
   ],
   "source": [
    "df = pd.read_csv('dummydata.csv')\n",
    "df = df.drop(df.index[0])\n",
    "df.head()"
   ]
  },
  {
   "cell_type": "code",
   "execution_count": 23,
   "metadata": {},
   "outputs": [
    {
     "data": {
      "text/html": [
       "<div>\n",
       "<style>\n",
       "    .dataframe thead tr:only-child th {\n",
       "        text-align: right;\n",
       "    }\n",
       "\n",
       "    .dataframe thead th {\n",
       "        text-align: left;\n",
       "    }\n",
       "\n",
       "    .dataframe tbody tr th {\n",
       "        vertical-align: top;\n",
       "    }\n",
       "</style>\n",
       "<table border=\"1\" class=\"dataframe\">\n",
       "  <thead>\n",
       "    <tr style=\"text-align: right;\">\n",
       "      <th></th>\n",
       "      <th>btemp</th>\n",
       "      <th>bsal</th>\n",
       "      <th>bcond</th>\n",
       "      <th>ioutput</th>\n",
       "      <th>icond</th>\n",
       "      <th>Residual</th>\n",
       "    </tr>\n",
       "  </thead>\n",
       "  <tbody>\n",
       "    <tr>\n",
       "      <th>1</th>\n",
       "      <td>1.10</td>\n",
       "      <td>38.27967</td>\n",
       "      <td>3.272148</td>\n",
       "      <td>5526.543</td>\n",
       "      <td>3.27206</td>\n",
       "      <td>-0.000066</td>\n",
       "    </tr>\n",
       "    <tr>\n",
       "      <th>2</th>\n",
       "      <td>4.95</td>\n",
       "      <td>38.25800</td>\n",
       "      <td>3.609804</td>\n",
       "      <td>5733.860</td>\n",
       "      <td>3.60987</td>\n",
       "      <td>0.000066</td>\n",
       "    </tr>\n",
       "    <tr>\n",
       "      <th>3</th>\n",
       "      <td>16.50</td>\n",
       "      <td>38.21169</td>\n",
       "      <td>4.689311</td>\n",
       "      <td>6350.652</td>\n",
       "      <td>4.68941</td>\n",
       "      <td>0.000044</td>\n",
       "    </tr>\n",
       "    <tr>\n",
       "      <th>4</th>\n",
       "      <td>20.35</td>\n",
       "      <td>38.20190</td>\n",
       "      <td>5.068844</td>\n",
       "      <td>6553.404</td>\n",
       "      <td>5.06880</td>\n",
       "      <td>-0.000022</td>\n",
       "    </tr>\n",
       "    <tr>\n",
       "      <th>5</th>\n",
       "      <td>26.40</td>\n",
       "      <td>38.19123</td>\n",
       "      <td>5.682369</td>\n",
       "      <td>6868.169</td>\n",
       "      <td>5.68227</td>\n",
       "      <td>-0.000066</td>\n",
       "    </tr>\n",
       "  </tbody>\n",
       "</table>\n",
       "</div>"
      ],
      "text/plain": [
       "   btemp      bsal     bcond   ioutput    icond  Residual\n",
       "1   1.10  38.27967  3.272148  5526.543  3.27206 -0.000066\n",
       "2   4.95  38.25800  3.609804  5733.860  3.60987  0.000066\n",
       "3  16.50  38.21169  4.689311  6350.652  4.68941  0.000044\n",
       "4  20.35  38.20190  5.068844  6553.404  5.06880 -0.000022\n",
       "5  26.40  38.19123  5.682369  6868.169  5.68227 -0.000066"
      ]
     },
     "execution_count": 23,
     "metadata": {},
     "output_type": "execute_result"
    }
   ],
   "source": [
    "df2 = pd.read_csv('dummydata.csv')\n",
    "df2 = df2.drop(df2.index[0])\n",
    "df2 = df2.multiply(1.1)\n",
    "df2.head()"
   ]
  },
  {
   "cell_type": "code",
   "execution_count": 43,
   "metadata": {},
   "outputs": [],
   "source": [
    "def frange_list(start, stop, step):\n",
    "    i = start\n",
    "    lst = []\n",
    "    while i < stop:\n",
    "        lst.append(i)\n",
    "        i += step\n",
    "    return lst\n",
    "\n",
    "#dfo = pd.DataFrame(np.asarray(frange_list(1.3, 30.2, .125)))\n"
   ]
  },
  {
   "cell_type": "code",
   "execution_count": null,
   "metadata": {},
   "outputs": [],
   "source": []
  },
  {
   "cell_type": "code",
   "execution_count": 42,
   "metadata": {},
   "outputs": [
    {
     "data": {
      "image/png": "[encoded data removed]",
      "text/plain": [
       "<matplotlib.figure.Figure at 0x1144bd1d0>"
      ]
     },
     "metadata": {},
     "output_type": "display_data"
    }
   ],
   "source": [
    "#ax = plt.subplot(111)\n",
    "xax = np.asarray(frange_list(3.27,5.7, .125))\n",
    "plt.plot(df['btemp'], df['icond'], label=\"control\")\n",
    "plt.plot(df['btemp'], df2['icond'], label='rma-1234')\n",
    "plt.xlabel(\"Bath Temp\")\n",
    "plt.ylabel(\"Instrument Conductivity\")\n",
    "leg = plt.legend(loc='best')\n",
    "plt.show()"
   ]
  },
  {
   "cell_type": "code",
   "execution_count": 107,
   "metadata": {},
   "outputs": [
    {
     "data": {
      "text/html": [
       "<div>\n",
       "<style>\n",
       "    .dataframe thead tr:only-child th {\n",
       "        text-align: right;\n",
       "    }\n",
       "\n",
       "    .dataframe thead th {\n",
       "        text-align: left;\n",
       "    }\n",
       "\n",
       "    .dataframe tbody tr th {\n",
       "        vertical-align: top;\n",
       "    }\n",
       "</style>\n",
       "<table border=\"1\" class=\"dataframe\">\n",
       "  <thead>\n",
       "    <tr style=\"text-align: right;\">\n",
       "      <th></th>\n",
       "      <th>Temperature</th>\n",
       "      <th>Conductivity</th>\n",
       "      <th>Pressure</th>\n",
       "      <th>Oxygen Temperature</th>\n",
       "      <th>Dissolved Oxygen</th>\n",
       "      <th>Salinity</th>\n",
       "      <th>Sound Velocity</th>\n",
       "    </tr>\n",
       "  </thead>\n",
       "  <tbody>\n",
       "    <tr>\n",
       "      <th>1</th>\n",
       "      <td>22.2149</td>\n",
       "      <td>1.98132</td>\n",
       "      <td>0.179</td>\n",
       "      <td>17.427</td>\n",
       "      <td>0.644303</td>\n",
       "      <td>12.5492</td>\n",
       "      <td>1502.869</td>\n",
       "    </tr>\n",
       "    <tr>\n",
       "      <th>2</th>\n",
       "      <td>22.2158</td>\n",
       "      <td>1.98136</td>\n",
       "      <td>0.177</td>\n",
       "      <td>17.427</td>\n",
       "      <td>0.644303</td>\n",
       "      <td>12.5491</td>\n",
       "      <td>1502.871</td>\n",
       "    </tr>\n",
       "    <tr>\n",
       "      <th>3</th>\n",
       "      <td>22.2167</td>\n",
       "      <td>1.98136</td>\n",
       "      <td>0.179</td>\n",
       "      <td>17.378</td>\n",
       "      <td>0.644297</td>\n",
       "      <td>12.5489</td>\n",
       "      <td>1502.873</td>\n",
       "    </tr>\n",
       "    <tr>\n",
       "      <th>4</th>\n",
       "      <td>22.2178</td>\n",
       "      <td>1.98136</td>\n",
       "      <td>0.180</td>\n",
       "      <td>17.378</td>\n",
       "      <td>0.644297</td>\n",
       "      <td>12.5486</td>\n",
       "      <td>1502.876</td>\n",
       "    </tr>\n",
       "    <tr>\n",
       "      <th>5</th>\n",
       "      <td>22.2187</td>\n",
       "      <td>1.98137</td>\n",
       "      <td>0.180</td>\n",
       "      <td>17.378</td>\n",
       "      <td>0.644297</td>\n",
       "      <td>12.5484</td>\n",
       "      <td>1502.878</td>\n",
       "    </tr>\n",
       "  </tbody>\n",
       "</table>\n",
       "</div>"
      ],
      "text/plain": [
       "   Temperature  Conductivity  Pressure  Oxygen Temperature  Dissolved Oxygen  \\\n",
       "1      22.2149       1.98132     0.179              17.427          0.644303   \n",
       "2      22.2158       1.98136     0.177              17.427          0.644303   \n",
       "3      22.2167       1.98136     0.179              17.378          0.644297   \n",
       "4      22.2178       1.98136     0.180              17.378          0.644297   \n",
       "5      22.2187       1.98137     0.180              17.378          0.644297   \n",
       "\n",
       "   Salinity  Sound Velocity  \n",
       "1   12.5492        1502.869  \n",
       "2   12.5491        1502.871  \n",
       "3   12.5489        1502.873  \n",
       "4   12.5486        1502.876  \n",
       "5   12.5484        1502.878  "
      ]
     },
     "execution_count": 107,
     "metadata": {},
     "output_type": "execute_result"
    }
   ],
   "source": [
    "control = pd.read_csv('SBE37.cap')\n",
    "control.describe\n",
    "rma = pd.read_csv('SBE19_noh', names=[\"Temperature\", 'Conductivity', 'Pressure', 'Oxygen Temperature', 'Dissolved Oxygen', 'Salinity', 'Sound Velocity'])\n",
    "rma = rma.drop(rma.index[0])\n",
    "rma.head()"
   ]
  },
  {
   "cell_type": "code",
   "execution_count": 128,
   "metadata": {},
   "outputs": [
    {
     "data": {
      "text/plain": [
       "1      08:37:44\n",
       "2      08:37:47\n",
       "3      08:37:49\n",
       "4      08:37:52\n",
       "5      08:37:55\n",
       "6      08:37:57\n",
       "7      08:38:00\n",
       "8      08:38:03\n",
       "9      08:38:05\n",
       "10     08:38:08\n",
       "11     08:38:10\n",
       "12     08:38:13\n",
       "13     08:38:16\n",
       "14     08:38:18\n",
       "15     08:38:21\n",
       "16     08:38:24\n",
       "17     08:38:26\n",
       "18     08:38:29\n",
       "19     08:38:31\n",
       "20          NaN\n",
       "Name:  Time, dtype: object"
      ]
     },
     "execution_count": 128,
     "metadata": {},
     "output_type": "execute_result"
    }
   ],
   "source": [
    "#time = datetime.strptime(control[' Time'].index[0], \"%H:%M:%S\")\n",
    "\n",
    "control[' Time']\n"
   ]
  },
  {
   "cell_type": "code",
   "execution_count": 134,
   "metadata": {},
   "outputs": [
    {
     "data": {
      "image/png": "[encoded data removed]",
      "text/plain": [
       "<matplotlib.figure.Figure at 0x11400fb38>"
      ]
     },
     "metadata": {},
     "output_type": "display_data"
    }
   ],
   "source": [
    "#Using real dummy data put cond, temp, pressure into 3 comparison graphs\n",
    "##import data from our two sbe files \n",
    "control = pd.read_csv('SBE37.cap')\n",
    "control = control.drop(control.index[0])\n",
    "rma = pd.read_csv('SBE19_noh', names=[\"Temperature\", 'Conductivity', 'Pressure', 'Oxygen Temperature', 'Dissolved Oxygen', 'Salinity', 'Sound Velocity'])[:21]\n",
    "rma = rma.drop(rma.index[0])\n",
    "\n",
    "%matplotlib inline\n",
    "\n",
    "plt.figure(1)\n",
    "\n",
    "#generate Temperature subplot\n",
    "plt.subplot(311)\n",
    "plt.plot(control[' Time'], control[' Temperature'], label = \"Control\")\n",
    "plt.plot(control[' Time'], rma['Temperature'], label = \"RMA\")\n",
    "plt.gcf().autofmt_xdate()\n",
    "plt.title(\"Temperature\")\n",
    "plt.legend(loc='best')\n",
    "plt.xlabel(\"Time\")\n",
    "plt.ylabel(\"Tempterature\")\n",
    "\n",
    "#conductivity\n",
    "plt.subplot(312)\n",
    "plt.plot(control[' Time'], control[' Conductivity'], label='Control')\n",
    "plt.plot(control[' Time'], rma['Conductivity'], label='RMA')\n",
    "plt.gcf().autofmt_xdate()\n",
    "plt.title(\"Conductivity\")\n",
    "plt.legend(loc='best')\n",
    "plt.xlabel(\"Time\")\n",
    "plt.ylabel(\"Conductivity\")\n",
    "\n",
    "#pressure\n",
    "plt.subplot(313)\n",
    "plt.plot(control[' Time'], control[' Pressure'], label='Control')\n",
    "plt.plot(control[' Time'], rma['Pressure'], label='RMA')\n",
    "plt.gcf().autofmt_xdate()\n",
    "plt.title(\"Pressure\")\n",
    "plt.legend(loc='best')\n",
    "plt.xlabel(\"Time\")\n",
    "plt.ylabel(\"Pressure\")\n",
    "\n",
    "\n",
    "plt.tight_layout()\n",
    "plt.show()\n",
    "\n"
   ]
  },
  {
   "cell_type": "code",
   "execution_count": null,
   "metadata": {
    "collapsed": true
   },
   "outputs": [],
   "source": [
    "#Calculate maximum difference \n",
    "p"
   ]
  },
  {
   "cell_type": "code",
   "execution_count": null,
   "metadata": {
    "collapsed": true
   },
   "outputs": [],
   "source": []
  },
  {
   "cell_type": "code",
   "execution_count": null,
   "metadata": {
    "collapsed": true
   },
   "outputs": [],
   "source": []
  }
 ],
 "metadata": {
  "kernelspec": {
   "display_name": "Python 3",
   "language": "python",
   "name": "python3"
  },
  "language_info": {
   "codemirror_mode": {
    "name": "ipython",
    "version": 3
   },
   "file_extension": ".py",
   "mimetype": "text/x-python",
   "name": "python",
   "nbconvert_exporter": "python",
   "pygments_lexer": "ipython3",
   "version": "3.6.3"
  }
 },
 "nbformat": 4,
 "nbformat_minor": 2
}
